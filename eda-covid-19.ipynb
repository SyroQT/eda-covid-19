{
  "nbformat": 4,
  "nbformat_minor": 0,
  "metadata": {
    "kernelspec": {
      "display_name": "Python 3",
      "language": "python",
      "name": "python3"
    },
    "language_info": {
      "codemirror_mode": {
        "name": "ipython",
        "version": 3
      },
      "file_extension": ".py",
      "mimetype": "text/x-python",
      "name": "python",
      "nbconvert_exporter": "python",
      "pygments_lexer": "ipython3",
      "version": "3.8.5"
    },
    "colab": {
      "name": "141.ipynb",
      "provenance": [],
      "toc_visible": true
    }
  },
  "cells": [
    {
      "cell_type": "markdown",
      "metadata": {
        "id": "eQd4qnrBqFc_"
      },
      "source": [
        "# Capstone Project"
      ]
    },
    {
      "cell_type": "markdown",
      "metadata": {
        "id": "LZYWClojqFdN"
      },
      "source": [
        "## Background"
      ]
    },
    {
      "cell_type": "markdown",
      "metadata": {
        "id": "42FzcDjyqFdO"
      },
      "source": [
        "We are glad you have successfully reached the capstone project part of \"Data Science Fundamentals\" course. You will put everything \n",
        "you have learned so far about data science to work. The outcome of this module should potentially serve as your portfolio item.\n",
        "\n",
        "Unlike with previous projects, this time you are free to choose a dataset to explore from three suggested ones. As you will have to solve a provided problem, there will not be list of predefined questions that you have to answer - be creative and explore any dimensions of data you deem worth analyzing.\n",
        "\n",
        "Although this might seem scary, this is how data science looks like in the industry. Often, it's your responsibility to not only give answers using the data, but also raise questions. The more creatively you look at this project, the better. Good luck!"
      ]
    },
    {
      "cell_type": "markdown",
      "metadata": {
        "id": "oKxpRcsCqFdO"
      },
      "source": [
        "----"
      ]
    },
    {
      "cell_type": "markdown",
      "metadata": {
        "id": "yQpMjwjoqFdO"
      },
      "source": [
        "## Requirements\n",
        "\n",
        "Whichever problem you choose to analyze, general requirements are as follow:\n",
        "\n",
        "#### Exploratory Data Analysis\n",
        "* Describe the data with basic statistical parameters - mean, median, quantiles, etc. Use parameters that give you the most important statistical insights of the data.\n",
        "* Grouping the data and analyzing the groups - using Pandas aggregate methods.\n",
        "* Work with features - handle missing data if needed, use pandas date APIs.\n",
        "* Manipulate datasets - use joins in needed.\n",
        "* Visualize the data - you can use line, scatter, histogram plots, density plots, regplots, etc.\n",
        "\n",
        "#### Statistical hypothesis testing\n",
        "* Use at least one statistical significance test.\n",
        "* Report p-values.\n",
        "* Use visualizations.\n",
        "\n",
        "#### Modeling\n",
        "* Visualize data with dimensionality reduction algorithms.\n",
        "* Perform cluster analysis.\n",
        "* Use a linear model to explain relationships and predict new values.\n",
        "\n",
        "#### Presentation\n",
        "* Present the project - the data, methods and results."
      ]
    },
    {
      "cell_type": "markdown",
      "metadata": {
        "id": "w1YzisFIqFdP"
      },
      "source": [
        "# Problems"
      ]
    },
    {
      "cell_type": "markdown",
      "metadata": {
        "id": "-AUJOIEAqFdP"
      },
      "source": [
        "## COVID-19 crisis "
      ]
    },
    {
      "cell_type": "markdown",
      "metadata": {
        "id": "Sd_WtHTXqFdP"
      },
      "source": [
        "<div><img width=\"400px\" height=\"auto\" src=\"https://images.unsplash.com/photo-1574515944794-d6dedc7150de?ixlib=rb-1.2.1&ixid=MXwxMjA3fDB8MHxwaG90by1wYWdlfHx8fGVufDB8fHw%3D&auto=format&fit=crop&w=1532&q=80\" /></div>"
      ]
    },
    {
      "cell_type": "markdown",
      "metadata": {
        "id": "9LLZrTpNqFdP"
      },
      "source": [
        "The world is still struggling with one the most rapidly spreading pandemics. There are a lot of people who say that data is the best weapon we can use in this \"Corona Fight\". \n",
        "\n",
        "Imagine that you are one of the best data scientists in your country. The president of your country asked you to analyze the COVID-19 patient-level data of South Korea and prepare your homeland for the next wave of the pandemic. You, as the lead data scientist of your country **have to create and prove a plan of fighting the pandemics in your country** by analyzing the provided data. You must get most important insights using learned data science techniques and present them to the lead of your country."
      ]
    },
    {
      "cell_type": "markdown",
      "metadata": {
        "id": "PJNbohx4_FJV"
      },
      "source": [
        "### Notes\r\n",
        "- Policy impact on cases\r\n",
        "- How fast virus spreads\r\n",
        "- Region data on spread\r\n",
        "- Weather and cases relation\r\n",
        "- Virus by age groups"
      ]
    },
    {
      "cell_type": "code",
      "metadata": {
        "id": "oMXgZSMjkMe2"
      },
      "source": [
        "import pandas as pd\r\n",
        "import numpy as np\r\n",
        "import matplotlib.pyplot as plt\r\n",
        "import seaborn as sns\r\n",
        "sns.set(palette=\"dark\")"
      ],
      "execution_count": 15,
      "outputs": []
    },
    {
      "cell_type": "code",
      "metadata": {
        "id": "LJEJ4hAwlREQ"
      },
      "source": [
        "case = pd.read_csv(\"/content/Case.csv\")\r\n",
        "policy = pd.read_csv(\"/content/Policy.csv\", index_col=\"policy_id\")\r\n",
        "patient_info = pd.read_csv(\"/content/PatientInfo.csv\")\r\n",
        "time_age = pd.read_csv(\"/content/TimeAge.csv\")\r\n",
        "time = pd.read_csv(\"/content/Time.csv\")"
      ],
      "execution_count": 3,
      "outputs": []
    },
    {
      "cell_type": "code",
      "metadata": {
        "id": "OEgjoRhooa02"
      },
      "source": [
        "time_age['date'] = pd.to_datetime(time_age.date)\r\n",
        "time['date'] = pd.to_datetime(time.date)\r\n",
        "policy.index = pd.to_datetime(policy.start_date)\r\n",
        "policy.drop(columns=\"start_date\", inplace=True)"
      ],
      "execution_count": 4,
      "outputs": []
    },
    {
      "cell_type": "markdown",
      "metadata": {
        "id": "A68eHLN5maRq"
      },
      "source": [
        "Cheking for missing values\r\n",
        "\r\n",
        "policy has some missing ```details``` and ```end_date```\r\n",
        "patient_info has a lot of ```nan```"
      ]
    },
    {
      "cell_type": "code",
      "metadata": {
        "colab": {
          "base_uri": "https://localhost:8080/"
        },
        "id": "u1r7zxsll_YI",
        "outputId": "9d13b4c3-d552-4a19-e022-02946bbe985b"
      },
      "source": [
        "policy.info()"
      ],
      "execution_count": null,
      "outputs": [
        {
          "output_type": "stream",
          "text": [
            "<class 'pandas.core.frame.DataFrame'>\n",
            "DatetimeIndex: 61 entries, 2020-01-03 to 2020-05-28\n",
            "Data columns (total 5 columns):\n",
            " #   Column      Non-Null Count  Dtype \n",
            "---  ------      --------------  ----- \n",
            " 0   country     61 non-null     object\n",
            " 1   type        61 non-null     object\n",
            " 2   gov_policy  61 non-null     object\n",
            " 3   detail      59 non-null     object\n",
            " 4   end_date    24 non-null     object\n",
            "dtypes: object(5)\n",
            "memory usage: 2.9+ KB\n"
          ],
          "name": "stdout"
        }
      ]
    },
    {
      "cell_type": "markdown",
      "metadata": {
        "id": "RMFKFWxDi4YL"
      },
      "source": [
        "### EDA"
      ]
    },
    {
      "cell_type": "markdown",
      "metadata": {
        "id": "E6rCQmLRvNL8"
      },
      "source": [
        "#### Cases by age"
      ]
    },
    {
      "cell_type": "markdown",
      "metadata": {
        "id": "NCFossdNnXTk"
      },
      "source": [
        "How deadly and infectious COVID is "
      ]
    },
    {
      "cell_type": "code",
      "metadata": {
        "colab": {
          "base_uri": "https://localhost:8080/"
        },
        "id": "yTDcXTOCoroF",
        "outputId": "bfd2c76b-8534-46ba-b9ff-c504ed1c16b4"
      },
      "source": [
        "(time_age.date.iloc[-1] - time_age.date.iloc[0])"
      ],
      "execution_count": 33,
      "outputs": [
        {
          "output_type": "execute_result",
          "data": {
            "text/plain": [
              "Timedelta('120 days 00:00:00')"
            ]
          },
          "metadata": {
            "tags": []
          },
          "execution_count": 33
        }
      ]
    },
    {
      "cell_type": "code",
      "metadata": {
        "colab": {
          "base_uri": "https://localhost:8080/"
        },
        "id": "TcRS4VjnNy0Z",
        "outputId": "7b586b8c-2bf3-4510-deb7-bc188bf49bd4"
      },
      "source": [
        "time_age.date.iloc[0], time_age.date.iloc[-1]"
      ],
      "execution_count": 34,
      "outputs": [
        {
          "output_type": "execute_result",
          "data": {
            "text/plain": [
              "(Timestamp('2020-03-02 00:00:00'), Timestamp('2020-06-30 00:00:00'))"
            ]
          },
          "metadata": {
            "tags": []
          },
          "execution_count": 34
        }
      ]
    },
    {
      "cell_type": "code",
      "metadata": {
        "colab": {
          "base_uri": "https://localhost:8080/",
          "height": 340
        },
        "id": "Zr7NPJG_rw9X",
        "outputId": "7baec655-b9da-4faf-c5c6-cf87c2bd745c"
      },
      "source": [
        "time_by_age = time_age.groupby(\"age\")[['confirmed', 'deceased']].sum()\r\n",
        "confirmed_sum = time_by_age.confirmed.sum()\r\n",
        "time_by_age"
      ],
      "execution_count": 35,
      "outputs": [
        {
          "output_type": "execute_result",
          "data": {
            "text/html": [
              "<div>\n",
              "<style scoped>\n",
              "    .dataframe tbody tr th:only-of-type {\n",
              "        vertical-align: middle;\n",
              "    }\n",
              "\n",
              "    .dataframe tbody tr th {\n",
              "        vertical-align: top;\n",
              "    }\n",
              "\n",
              "    .dataframe thead th {\n",
              "        text-align: right;\n",
              "    }\n",
              "</style>\n",
              "<table border=\"1\" class=\"dataframe\">\n",
              "  <thead>\n",
              "    <tr style=\"text-align: right;\">\n",
              "      <th></th>\n",
              "      <th>confirmed</th>\n",
              "      <th>deceased</th>\n",
              "    </tr>\n",
              "    <tr>\n",
              "      <th>age</th>\n",
              "      <th></th>\n",
              "      <th></th>\n",
              "    </tr>\n",
              "  </thead>\n",
              "  <tbody>\n",
              "    <tr>\n",
              "      <th>0s</th>\n",
              "      <td>16107</td>\n",
              "      <td>0</td>\n",
              "    </tr>\n",
              "    <tr>\n",
              "      <th>10s</th>\n",
              "      <td>68752</td>\n",
              "      <td>0</td>\n",
              "    </tr>\n",
              "    <tr>\n",
              "      <th>20s</th>\n",
              "      <td>345827</td>\n",
              "      <td>0</td>\n",
              "    </tr>\n",
              "    <tr>\n",
              "      <th>30s</th>\n",
              "      <td>137539</td>\n",
              "      <td>194</td>\n",
              "    </tr>\n",
              "    <tr>\n",
              "      <th>40s</th>\n",
              "      <td>168250</td>\n",
              "      <td>295</td>\n",
              "    </tr>\n",
              "    <tr>\n",
              "      <th>50s</th>\n",
              "      <td>230030</td>\n",
              "      <td>1537</td>\n",
              "    </tr>\n",
              "    <tr>\n",
              "      <th>60s</th>\n",
              "      <td>158505</td>\n",
              "      <td>3743</td>\n",
              "    </tr>\n",
              "    <tr>\n",
              "      <th>70s</th>\n",
              "      <td>82107</td>\n",
              "      <td>7599</td>\n",
              "    </tr>\n",
              "    <tr>\n",
              "      <th>80s</th>\n",
              "      <td>54086</td>\n",
              "      <td>12136</td>\n",
              "    </tr>\n",
              "  </tbody>\n",
              "</table>\n",
              "</div>"
            ],
            "text/plain": [
              "     confirmed  deceased\n",
              "age                     \n",
              "0s       16107         0\n",
              "10s      68752         0\n",
              "20s     345827         0\n",
              "30s     137539       194\n",
              "40s     168250       295\n",
              "50s     230030      1537\n",
              "60s     158505      3743\n",
              "70s      82107      7599\n",
              "80s      54086     12136"
            ]
          },
          "metadata": {
            "tags": []
          },
          "execution_count": 35
        }
      ]
    },
    {
      "cell_type": "code",
      "metadata": {
        "colab": {
          "base_uri": "https://localhost:8080/",
          "height": 528
        },
        "id": "7wq07r1ipypc",
        "outputId": "f5fd7327-eacd-4bed-9841-d83e5fefd292"
      },
      "source": [
        "import matplotlib.ticker as mtick\r\n",
        "time_by_age.plot(kind=\"bar\", figsize=(12, 8), title=\"Cases by age\").yaxis.set_major_formatter(mtick.PercentFormatter(confirmed_sum))"
      ],
      "execution_count": 36,
      "outputs": [
        {
          "output_type": "display_data",
          "data": {
            "image/png": "[encoded data removed]",
            "text/plain": [
              "<Figure size 864x576 with 1 Axes>"
            ]
          },
          "metadata": {
            "tags": []
          }
        }
      ]
    },
    {
      "cell_type": "markdown",
      "metadata": {
        "id": "dOXMUtIMstta"
      },
      "source": [
        "As we can see most of the people get the virus in their 20s followed by 50s and the biggest spike in death is after 60s"
      ]
    },
    {
      "cell_type": "markdown",
      "metadata": {
        "id": "ngR1ZBtywC-7"
      },
      "source": [
        "#### Policies"
      ]
    },
    {
      "cell_type": "code",
      "metadata": {
        "colab": {
          "base_uri": "https://localhost:8080/",
          "height": 223
        },
        "id": "TGcYAwABwGu5",
        "outputId": "3f0a277a-3b25-423e-adbf-d6842188cb93"
      },
      "source": [
        "policy.head()"
      ],
      "execution_count": 37,
      "outputs": [
        {
          "output_type": "execute_result",
          "data": {
            "text/html": [
              "<div>\n",
              "<style scoped>\n",
              "    .dataframe tbody tr th:only-of-type {\n",
              "        vertical-align: middle;\n",
              "    }\n",
              "\n",
              "    .dataframe tbody tr th {\n",
              "        vertical-align: top;\n",
              "    }\n",
              "\n",
              "    .dataframe thead th {\n",
              "        text-align: right;\n",
              "    }\n",
              "</style>\n",
              "<table border=\"1\" class=\"dataframe\">\n",
              "  <thead>\n",
              "    <tr style=\"text-align: right;\">\n",
              "      <th></th>\n",
              "      <th>country</th>\n",
              "      <th>type</th>\n",
              "      <th>gov_policy</th>\n",
              "      <th>detail</th>\n",
              "      <th>end_date</th>\n",
              "    </tr>\n",
              "    <tr>\n",
              "      <th>start_date</th>\n",
              "      <th></th>\n",
              "      <th></th>\n",
              "      <th></th>\n",
              "      <th></th>\n",
              "      <th></th>\n",
              "    </tr>\n",
              "  </thead>\n",
              "  <tbody>\n",
              "    <tr>\n",
              "      <th>2020-01-03</th>\n",
              "      <td>Korea</td>\n",
              "      <td>Alert</td>\n",
              "      <td>Infectious Disease Alert Level</td>\n",
              "      <td>Level 1 (Blue)</td>\n",
              "      <td>2020-01-19</td>\n",
              "    </tr>\n",
              "    <tr>\n",
              "      <th>2020-01-20</th>\n",
              "      <td>Korea</td>\n",
              "      <td>Alert</td>\n",
              "      <td>Infectious Disease Alert Level</td>\n",
              "      <td>Level 2 (Yellow)</td>\n",
              "      <td>2020-01-27</td>\n",
              "    </tr>\n",
              "    <tr>\n",
              "      <th>2020-01-28</th>\n",
              "      <td>Korea</td>\n",
              "      <td>Alert</td>\n",
              "      <td>Infectious Disease Alert Level</td>\n",
              "      <td>Level 3 (Orange)</td>\n",
              "      <td>2020-02-22</td>\n",
              "    </tr>\n",
              "    <tr>\n",
              "      <th>2020-02-23</th>\n",
              "      <td>Korea</td>\n",
              "      <td>Alert</td>\n",
              "      <td>Infectious Disease Alert Level</td>\n",
              "      <td>Level 4 (Red)</td>\n",
              "      <td>NaN</td>\n",
              "    </tr>\n",
              "    <tr>\n",
              "      <th>2020-02-04</th>\n",
              "      <td>Korea</td>\n",
              "      <td>Immigration</td>\n",
              "      <td>Special Immigration Procedure</td>\n",
              "      <td>from China</td>\n",
              "      <td>NaN</td>\n",
              "    </tr>\n",
              "  </tbody>\n",
              "</table>\n",
              "</div>"
            ],
            "text/plain": [
              "           country         type  ...            detail    end_date\n",
              "start_date                       ...                              \n",
              "2020-01-03   Korea        Alert  ...    Level 1 (Blue)  2020-01-19\n",
              "2020-01-20   Korea        Alert  ...  Level 2 (Yellow)  2020-01-27\n",
              "2020-01-28   Korea        Alert  ...  Level 3 (Orange)  2020-02-22\n",
              "2020-02-23   Korea        Alert  ...     Level 4 (Red)         NaN\n",
              "2020-02-04   Korea  Immigration  ...        from China         NaN\n",
              "\n",
              "[5 rows x 5 columns]"
            ]
          },
          "metadata": {
            "tags": []
          },
          "execution_count": 37
        }
      ]
    },
    {
      "cell_type": "code",
      "metadata": {
        "colab": {
          "base_uri": "https://localhost:8080/"
        },
        "id": "oTRvFQbFwf82",
        "outputId": "984b6de9-efd2-4462-fc77-6d9fd06cd573"
      },
      "source": [
        "policy['type'].value_counts()"
      ],
      "execution_count": 38,
      "outputs": [
        {
          "output_type": "execute_result",
          "data": {
            "text/plain": [
              "Education         15\n",
              "Immigration       15\n",
              "Health            10\n",
              "Technology         6\n",
              "Social             5\n",
              "Alert              4\n",
              "Administrative     3\n",
              "Transformation     3\n",
              "Name: type, dtype: int64"
            ]
          },
          "metadata": {
            "tags": []
          },
          "execution_count": 38
        }
      ]
    },
    {
      "cell_type": "code",
      "metadata": {
        "colab": {
          "base_uri": "https://localhost:8080/",
          "height": 643
        },
        "id": "eLmrVvB3Io5H",
        "outputId": "7f75e5fa-7910-4419-e38d-ecbe835c4227"
      },
      "source": [
        "policy.resample('W').count()['type'].plot(kind='bar',  figsize=(12, 8), title=\"GOV response (how many policies added)\")"
      ],
      "execution_count": 39,
      "outputs": [
        {
          "output_type": "execute_result",
          "data": {
            "text/plain": [
              "<matplotlib.axes._subplots.AxesSubplot at 0x7fb3928f4550>"
            ]
          },
          "metadata": {
            "tags": []
          },
          "execution_count": 39
        },
        {
          "output_type": "display_data",
          "data": {
            "image/png": "[encoded data removed]",
            "text/plain": [
              "<Figure size 864x576 with 1 Axes>"
            ]
          },
          "metadata": {
            "tags": []
          }
        }
      ]
    },
    {
      "cell_type": "markdown",
      "metadata": {
        "id": "pQU9e1tGNDw7"
      },
      "source": [
        "Key date seems to be the May 15th\r\n",
        "\r\n",
        "So we could use it as a key point for our analysis"
      ]
    },
    {
      "cell_type": "markdown",
      "metadata": {
        "id": "7dZnDmznGUGF"
      },
      "source": [
        "#### Patients"
      ]
    },
    {
      "cell_type": "code",
      "metadata": {
        "id": "NhITodKeGvmD",
        "colab": {
          "base_uri": "https://localhost:8080/",
          "height": 281
        },
        "outputId": "2990a1f1-981b-4ccd-e0f1-871fc4ced636"
      },
      "source": [
        "patient_info.head()"
      ],
      "execution_count": 40,
      "outputs": [
        {
          "output_type": "execute_result",
          "data": {
            "text/html": [
              "<div>\n",
              "<style scoped>\n",
              "    .dataframe tbody tr th:only-of-type {\n",
              "        vertical-align: middle;\n",
              "    }\n",
              "\n",
              "    .dataframe tbody tr th {\n",
              "        vertical-align: top;\n",
              "    }\n",
              "\n",
              "    .dataframe thead th {\n",
              "        text-align: right;\n",
              "    }\n",
              "</style>\n",
              "<table border=\"1\" class=\"dataframe\">\n",
              "  <thead>\n",
              "    <tr style=\"text-align: right;\">\n",
              "      <th></th>\n",
              "      <th>patient_id</th>\n",
              "      <th>sex</th>\n",
              "      <th>age</th>\n",
              "      <th>country</th>\n",
              "      <th>province</th>\n",
              "      <th>city</th>\n",
              "      <th>infection_case</th>\n",
              "      <th>infected_by</th>\n",
              "      <th>contact_number</th>\n",
              "      <th>symptom_onset_date</th>\n",
              "      <th>confirmed_date</th>\n",
              "      <th>released_date</th>\n",
              "      <th>deceased_date</th>\n",
              "      <th>state</th>\n",
              "    </tr>\n",
              "  </thead>\n",
              "  <tbody>\n",
              "    <tr>\n",
              "      <th>0</th>\n",
              "      <td>1000000001</td>\n",
              "      <td>male</td>\n",
              "      <td>50s</td>\n",
              "      <td>Korea</td>\n",
              "      <td>Seoul</td>\n",
              "      <td>Gangseo-gu</td>\n",
              "      <td>overseas inflow</td>\n",
              "      <td>NaN</td>\n",
              "      <td>75</td>\n",
              "      <td>2020-01-22</td>\n",
              "      <td>2020-01-23</td>\n",
              "      <td>2020-02-05</td>\n",
              "      <td>NaN</td>\n",
              "      <td>released</td>\n",
              "    </tr>\n",
              "    <tr>\n",
              "      <th>1</th>\n",
              "      <td>1000000002</td>\n",
              "      <td>male</td>\n",
              "      <td>30s</td>\n",
              "      <td>Korea</td>\n",
              "      <td>Seoul</td>\n",
              "      <td>Jungnang-gu</td>\n",
              "      <td>overseas inflow</td>\n",
              "      <td>NaN</td>\n",
              "      <td>31</td>\n",
              "      <td>NaN</td>\n",
              "      <td>2020-01-30</td>\n",
              "      <td>2020-03-02</td>\n",
              "      <td>NaN</td>\n",
              "      <td>released</td>\n",
              "    </tr>\n",
              "    <tr>\n",
              "      <th>2</th>\n",
              "      <td>1000000003</td>\n",
              "      <td>male</td>\n",
              "      <td>50s</td>\n",
              "      <td>Korea</td>\n",
              "      <td>Seoul</td>\n",
              "      <td>Jongno-gu</td>\n",
              "      <td>contact with patient</td>\n",
              "      <td>2002000001</td>\n",
              "      <td>17</td>\n",
              "      <td>NaN</td>\n",
              "      <td>2020-01-30</td>\n",
              "      <td>2020-02-19</td>\n",
              "      <td>NaN</td>\n",
              "      <td>released</td>\n",
              "    </tr>\n",
              "    <tr>\n",
              "      <th>3</th>\n",
              "      <td>1000000004</td>\n",
              "      <td>male</td>\n",
              "      <td>20s</td>\n",
              "      <td>Korea</td>\n",
              "      <td>Seoul</td>\n",
              "      <td>Mapo-gu</td>\n",
              "      <td>overseas inflow</td>\n",
              "      <td>NaN</td>\n",
              "      <td>9</td>\n",
              "      <td>2020-01-26</td>\n",
              "      <td>2020-01-30</td>\n",
              "      <td>2020-02-15</td>\n",
              "      <td>NaN</td>\n",
              "      <td>released</td>\n",
              "    </tr>\n",
              "    <tr>\n",
              "      <th>4</th>\n",
              "      <td>1000000005</td>\n",
              "      <td>female</td>\n",
              "      <td>20s</td>\n",
              "      <td>Korea</td>\n",
              "      <td>Seoul</td>\n",
              "      <td>Seongbuk-gu</td>\n",
              "      <td>contact with patient</td>\n",
              "      <td>1000000002</td>\n",
              "      <td>2</td>\n",
              "      <td>NaN</td>\n",
              "      <td>2020-01-31</td>\n",
              "      <td>2020-02-24</td>\n",
              "      <td>NaN</td>\n",
              "      <td>released</td>\n",
              "    </tr>\n",
              "  </tbody>\n",
              "</table>\n",
              "</div>"
            ],
            "text/plain": [
              "   patient_id     sex  age  ... released_date deceased_date     state\n",
              "0  1000000001    male  50s  ...    2020-02-05           NaN  released\n",
              "1  1000000002    male  30s  ...    2020-03-02           NaN  released\n",
              "2  1000000003    male  50s  ...    2020-02-19           NaN  released\n",
              "3  1000000004    male  20s  ...    2020-02-15           NaN  released\n",
              "4  1000000005  female  20s  ...    2020-02-24           NaN  released\n",
              "\n",
              "[5 rows x 14 columns]"
            ]
          },
          "metadata": {
            "tags": []
          },
          "execution_count": 40
        }
      ]
    },
    {
      "cell_type": "code",
      "metadata": {
        "id": "cuomJI4JGy9S",
        "colab": {
          "base_uri": "https://localhost:8080/",
          "height": 610
        },
        "outputId": "2f42260b-8908-4e4b-a212-c7781a232fa9"
      },
      "source": [
        "data = patient_info.infection_case.value_counts()[:10]\r\n",
        "data.plot(kind='bar', figsize=(12, 8), rot='45', title=\"Ways of infection\").yaxis.set_major_formatter(mtick.PercentFormatter(data.sum()))"
      ],
      "execution_count": 41,
      "outputs": [
        {
          "output_type": "display_data",
          "data": {
            "image/png": "[encoded data removed]",
            "text/plain": [
              "<Figure size 864x576 with 1 Axes>"
            ]
          },
          "metadata": {
            "tags": []
          }
        }
      ]
    },
    {
      "cell_type": "markdown",
      "metadata": {
        "id": "PLCjHoJXLh-Q"
      },
      "source": [
        "#### Cases"
      ]
    },
    {
      "cell_type": "markdown",
      "metadata": {
        "id": "SnGdlL8Txl3y"
      },
      "source": [
        "Lets see how much of the impact policies had on the spread"
      ]
    },
    {
      "cell_type": "code",
      "metadata": {
        "id": "V3_Pmq0CJEyu"
      },
      "source": [
        "values = time.resample(\"D\", on=\"date\").sum()"
      ],
      "execution_count": 56,
      "outputs": []
    },
    {
      "cell_type": "code",
      "metadata": {
        "id": "plFEspK5jbDQ"
      },
      "source": [
        "policy_list = [True if x in policy.index else False for x in values.index] * values['confirmed']\r\n",
        "policy_list = policy_list.replace(0, np.nan)"
      ],
      "execution_count": 43,
      "outputs": []
    },
    {
      "cell_type": "code",
      "metadata": {
        "colab": {
          "base_uri": "https://localhost:8080/",
          "height": 628
        },
        "id": "dUlYh9mzjAIS",
        "outputId": "af9b33c6-05ac-42be-b13c-d375cfa9e004"
      },
      "source": [
        "plt.figure(figsize=(15, 10))\r\n",
        "plt.plot(values.index, values.confirmed)\r\n",
        "plt.plot(values.index, values.deceased)\r\n",
        "plt.scatter(policy_list.index, policy_list.values, marker='s', color='orange')\r\n",
        "plt.legend([\"Confirmed\", \"Deceased\", 'Policy'])\r\n",
        "plt.title(\"Case and policy timeline\")"
      ],
      "execution_count": 44,
      "outputs": [
        {
          "output_type": "execute_result",
          "data": {
            "text/plain": [
              "Text(0.5, 1.0, 'Case and policy timeline')"
            ]
          },
          "metadata": {
            "tags": []
          },
          "execution_count": 44
        },
        {
          "output_type": "display_data",
          "data": {
            "image/png": "[encoded data removed]",
            "text/plain": [
              "<Figure size 1080x720 with 1 Axes>"
            ]
          },
          "metadata": {
            "tags": []
          }
        }
      ]
    },
    {
      "cell_type": "markdown",
      "metadata": {
        "id": "sQcRE4UVi7Kb"
      },
      "source": [
        "### Statistical testing"
      ]
    },
    {
      "cell_type": "markdown",
      "metadata": {
        "id": "7t34idXgIUbI"
      },
      "source": [
        "Most policies happend to take place in the end of May while majoraty of them focused on school closures and travel restrictions\r\n",
        "\r\n",
        "Lets test how did those restrictions impacted the biggest groups:\r\n",
        "\r\n",
        "- people in their 20s who have the biggest positive tests\r\n",
        "- and older people (over 60) who have the biggest death rate\r\n",
        "\r\n",
        "Null hypotesis being there is no difference\r\n",
        "and alternative hypotesis being there is a difference \r\n"
      ]
    },
    {
      "cell_type": "markdown",
      "metadata": {
        "id": "VYMdGoJjIrDR"
      },
      "source": [
        "Will calculate proportion of positive test results for both groups before and after the majority of the policies where accepted \r\n",
        "Alpha = 0.05\r\n"
      ]
    },
    {
      "cell_type": "code",
      "metadata": {
        "colab": {
          "base_uri": "https://localhost:8080/"
        },
        "id": "cpLAjr1WqbaL",
        "outputId": "2e9ca74e-8528-45a8-a35c-d3d286412c2e"
      },
      "source": [
        "mask = time_age.date < '2020-03-23'\r\n",
        "dates_before = time_age.date.loc[mask]\r\n",
        "dates_before.shape"
      ],
      "execution_count": 45,
      "outputs": [
        {
          "output_type": "execute_result",
          "data": {
            "text/plain": [
              "(189,)"
            ]
          },
          "metadata": {
            "tags": []
          },
          "execution_count": 45
        }
      ]
    },
    {
      "cell_type": "code",
      "metadata": {
        "colab": {
          "base_uri": "https://localhost:8080/"
        },
        "id": "_xtf7cXcrqvi",
        "outputId": "72ade491-60da-4943-ae02-e192474f54fe"
      },
      "source": [
        "dates_after = time_age.date.iloc[189: 189*2]\r\n",
        "dates_after.shape"
      ],
      "execution_count": 46,
      "outputs": [
        {
          "output_type": "execute_result",
          "data": {
            "text/plain": [
              "(189,)"
            ]
          },
          "metadata": {
            "tags": []
          },
          "execution_count": 46
        }
      ]
    },
    {
      "cell_type": "code",
      "metadata": {
        "colab": {
          "base_uri": "https://localhost:8080/"
        },
        "id": "AOd2BWljtgcn",
        "outputId": "6804723d-d0cb-421d-c9ed-93e48d327532"
      },
      "source": [
        "assert dates_after.shape[0] ==  dates_before.shape[0]\r\n",
        "n = dates_after.shape[0]\r\n",
        "n"
      ],
      "execution_count": 47,
      "outputs": [
        {
          "output_type": "execute_result",
          "data": {
            "text/plain": [
              "189"
            ]
          },
          "metadata": {
            "tags": []
          },
          "execution_count": 47
        }
      ]
    },
    {
      "cell_type": "markdown",
      "metadata": {
        "id": "emdLOCtHss7b"
      },
      "source": [
        "Sample size will be 189 we can use Z-test as n is bigger then 30"
      ]
    },
    {
      "cell_type": "markdown",
      "metadata": {
        "id": "w6nlxzyRs2OY"
      },
      "source": [
        "#### Calculating proportions"
      ]
    },
    {
      "cell_type": "code",
      "metadata": {
        "id": "UkkJ2sszssTV"
      },
      "source": [
        "before = time_age.iloc[0:n]\r\n",
        "after = time_age.iloc[n: n*2]"
      ],
      "execution_count": 48,
      "outputs": []
    },
    {
      "cell_type": "code",
      "metadata": {
        "colab": {
          "base_uri": "https://localhost:8080/"
        },
        "id": "2aKJxBxTt6zS",
        "outputId": "42dff27d-2c70-4474-aca6-4ec679665347"
      },
      "source": [
        "# Total\r\n",
        "total_before = before.groupby('age').sum().sum().confirmed\r\n",
        "total_after = after.groupby('age').sum().sum().confirmed\r\n",
        "total_before, total_after"
      ],
      "execution_count": 49,
      "outputs": [
        {
          "output_type": "execute_result",
          "data": {
            "text/plain": [
              "(154941, 207398)"
            ]
          },
          "metadata": {
            "tags": []
          },
          "execution_count": 49
        }
      ]
    },
    {
      "cell_type": "code",
      "metadata": {
        "id": "ofF5Rmwbudfr"
      },
      "source": [
        "# 20s and over 60s\r\n",
        "young_before = before.groupby('age').sum()['confirmed']['20s']\r\n",
        "young_after = after.groupby('age').sum()['confirmed']['20s']\r\n",
        "\r\n",
        "older_before = before.groupby('age').sum()['confirmed'][['60s', '70s', '80s']].sum()\r\n",
        "older_after = after.groupby('age').sum()['confirmed'][['60s', '70s', '80s']].sum()"
      ],
      "execution_count": 50,
      "outputs": []
    },
    {
      "cell_type": "markdown",
      "metadata": {
        "id": "2Il7yZ093cze"
      },
      "source": [
        "Proportions"
      ]
    },
    {
      "cell_type": "code",
      "metadata": {
        "colab": {
          "base_uri": "https://localhost:8080/"
        },
        "id": "L46yekOE3TL1",
        "outputId": "5fb09962-7e48-4dec-fcc6-a723c38e23ed"
      },
      "source": [
        "young_before/total_before, young_after/total_after"
      ],
      "execution_count": 51,
      "outputs": [
        {
          "output_type": "execute_result",
          "data": {
            "text/plain": [
              "(0.2855925804015722, 0.2717866131785263)"
            ]
          },
          "metadata": {
            "tags": []
          },
          "execution_count": 51
        }
      ]
    },
    {
      "cell_type": "code",
      "metadata": {
        "colab": {
          "base_uri": "https://localhost:8080/"
        },
        "id": "K88Csio03WoL",
        "outputId": "9b174ca0-d5c4-41dd-bd71-61e94a670895"
      },
      "source": [
        "older_before/total_before, older_after/total_after"
      ],
      "execution_count": 52,
      "outputs": [
        {
          "output_type": "execute_result",
          "data": {
            "text/plain": [
              "(0.2170374529659677, 0.23801579571644857)"
            ]
          },
          "metadata": {
            "tags": []
          },
          "execution_count": 52
        }
      ]
    },
    {
      "cell_type": "code",
      "metadata": {
        "colab": {
          "base_uri": "https://localhost:8080/"
        },
        "id": "-XlfJosMujeW",
        "outputId": "98fb6997-1790-4c55-c962-5ff4c584622f"
      },
      "source": [
        "# Test for younger population\r\n",
        "from statsmodels.stats.proportion import proportions_ztest\r\n",
        "z_score, pval = proportions_ztest([young_before, young_after], [total_before, total_after])\r\n",
        "pval"
      ],
      "execution_count": 53,
      "outputs": [
        {
          "output_type": "stream",
          "text": [
            "/usr/local/lib/python3.6/dist-packages/statsmodels/tools/_testing.py:19: FutureWarning: pandas.util.testing is deprecated. Use the functions in the public API at pandas.testing instead.\n",
            "  import pandas.util.testing as tm\n"
          ],
          "name": "stderr"
        },
        {
          "output_type": "execute_result",
          "data": {
            "text/plain": [
              "4.3024340629496236e-20"
            ]
          },
          "metadata": {
            "tags": []
          },
          "execution_count": 53
        }
      ]
    },
    {
      "cell_type": "code",
      "metadata": {
        "colab": {
          "base_uri": "https://localhost:8080/"
        },
        "id": "aPWIoMH12Wlm",
        "outputId": "9ff9e8f9-14c8-49c6-f777-3019ce05e186"
      },
      "source": [
        "# Test for younger population\r\n",
        "z_score, pval = proportions_ztest([older_before, older_after], [total_before, total_after])\r\n",
        "pval"
      ],
      "execution_count": 54,
      "outputs": [
        {
          "output_type": "execute_result",
          "data": {
            "text/plain": [
              "5.395878604205442e-50"
            ]
          },
          "metadata": {
            "tags": []
          },
          "execution_count": 54
        }
      ]
    },
    {
      "cell_type": "markdown",
      "metadata": {
        "id": "ZbyJkgQAJ9so"
      },
      "source": [
        "#### Conclusions"
      ]
    },
    {
      "cell_type": "markdown",
      "metadata": {
        "id": "A29_8Ef63NQ6"
      },
      "source": [
        "So the mesures taken where significant\r\n",
        "\r\n",
        "There was a reduction in younger people who got the virus\r\n",
        "\r\n",
        "But there were increase of older people who got sick"
      ]
    },
    {
      "cell_type": "markdown",
      "metadata": {
        "id": "7lGEb2aZ5AZO"
      },
      "source": [
        "As most policies affected schools and immigrations it is logical \r\n",
        "\r\n",
        "Most senior citizens are out of school and dont tend to travel to other countries often\r\n",
        "\r\n",
        "While younger population is impacted heavier by these policies"
      ]
    },
    {
      "cell_type": "code",
      "metadata": {
        "colab": {
          "base_uri": "https://localhost:8080/"
        },
        "id": "cjeDcm2g4CAn",
        "outputId": "5fde0039-05d3-4934-bcb7-90515c13ec63"
      },
      "source": [
        "policy[(policy.index > '2020-03') & (policy.index < '2020-04')]['gov_policy'].sort_index()"
      ],
      "execution_count": 55,
      "outputs": [
        {
          "output_type": "execute_result",
          "data": {
            "text/plain": [
              "start_date\n",
              "2020-03-02                             School Opening Delay\n",
              "2020-03-02                             School Opening Delay\n",
              "2020-03-02                             School Opening Delay\n",
              "2020-03-02                             School Opening Delay\n",
              "2020-03-02                                   School Closure\n",
              "2020-03-04                   Drive-Through Screening Center\n",
              "2020-03-07            Self-Quarantine Safety Protection App\n",
              "2020-03-08                                         Open API\n",
              "2020-03-09                                Mask Distribution\n",
              "2020-03-09                    Special Immigration Procedure\n",
              "2020-03-12                    Special Immigration Procedure\n",
              "2020-03-12                    Special Immigration Procedure\n",
              "2020-03-13    Emergency Use Authorization of Diagnostic Kit\n",
              "2020-03-15                    Special Immigration Procedure\n",
              "2020-03-15                    Special Immigration Procedure\n",
              "2020-03-15                    Special Immigration Procedure\n",
              "2020-03-15                    Special Immigration Procedure\n",
              "2020-03-15                    Special Immigration Procedure\n",
              "2020-03-16                    Special Immigration Procedure\n",
              "2020-03-19                    Special Immigration Procedure\n",
              "2020-03-22                       Social Distancing Campaign\n",
              "Name: gov_policy, dtype: object"
            ]
          },
          "metadata": {
            "tags": []
          },
          "execution_count": 55
        }
      ]
    },
    {
      "cell_type": "markdown",
      "metadata": {
        "id": "hPB5LlnRUNUa"
      },
      "source": [
        "### Dimension reduction"
      ]
    },
    {
      "cell_type": "code",
      "metadata": {
        "colab": {
          "base_uri": "https://localhost:8080/"
        },
        "id": "rrnlVC-QSQoi",
        "outputId": "cdf8eca8-a2c7-4fc9-8d91-0715fcc800b2"
      },
      "source": [
        "time.info()"
      ],
      "execution_count": 8,
      "outputs": [
        {
          "output_type": "stream",
          "text": [
            "<class 'pandas.core.frame.DataFrame'>\n",
            "RangeIndex: 163 entries, 0 to 162\n",
            "Data columns (total 7 columns):\n",
            " #   Column     Non-Null Count  Dtype         \n",
            "---  ------     --------------  -----         \n",
            " 0   date       163 non-null    datetime64[ns]\n",
            " 1   time       163 non-null    int64         \n",
            " 2   test       163 non-null    int64         \n",
            " 3   negative   163 non-null    int64         \n",
            " 4   confirmed  163 non-null    int64         \n",
            " 5   released   163 non-null    int64         \n",
            " 6   deceased   163 non-null    int64         \n",
            "dtypes: datetime64[ns](1), int64(6)\n",
            "memory usage: 9.0 KB\n"
          ],
          "name": "stdout"
        }
      ]
    },
    {
      "cell_type": "code",
      "metadata": {
        "id": "C-mkiY40OQpO"
      },
      "source": [
        "# Change data to deltas\r\n",
        "data = time.drop(columns=[\"date\", 'time']).diff().drop(index=0).reset_index()"
      ],
      "execution_count": 9,
      "outputs": []
    },
    {
      "cell_type": "code",
      "metadata": {
        "id": "Pm7tlJtMLw7n"
      },
      "source": [
        "features = data.drop(columns=[\"deceased\", 'index'])\r\n",
        "target = data['deceased']"
      ],
      "execution_count": 10,
      "outputs": []
    },
    {
      "cell_type": "code",
      "metadata": {
        "id": "Z2lx_kDfMM2_"
      },
      "source": [
        "from sklearn.preprocessing import StandardScaler\r\n",
        "X = StandardScaler().fit_transform(features)"
      ],
      "execution_count": 11,
      "outputs": []
    },
    {
      "cell_type": "markdown",
      "metadata": {
        "id": "BVNILAZzUSfC"
      },
      "source": [
        "#### PCA"
      ]
    },
    {
      "cell_type": "code",
      "metadata": {
        "id": "QSfuIrB-MzA5"
      },
      "source": [
        "from sklearn.decomposition import PCA\r\n",
        "pca = PCA(n_components = 2)\r\n",
        "reduced_pca = pca.fit_transform(X)"
      ],
      "execution_count": 12,
      "outputs": []
    },
    {
      "cell_type": "code",
      "metadata": {
        "id": "HEUj3OYFPmLG"
      },
      "source": [
        "principal = pd.DataFrame(data = reduced_pca, columns = ['pc1', 'pc2'])\r\n",
        "df_pca = pd.concat([principal, target], axis = 1)"
      ],
      "execution_count": 13,
      "outputs": []
    },
    {
      "cell_type": "code",
      "metadata": {
        "colab": {
          "base_uri": "https://localhost:8080/",
          "height": 616
        },
        "id": "AEPKnmr1JNSy",
        "outputId": "29ab600f-5e9a-4ed5-a95b-d0daf9beb89e"
      },
      "source": [
        "sns.relplot(x='pc1', y='pc2', data=df_pca, hue='deceased', height=8)"
      ],
      "execution_count": 16,
      "outputs": [
        {
          "output_type": "execute_result",
          "data": {
            "text/plain": [
              "<seaborn.axisgrid.FacetGrid at 0x7fb39e845780>"
            ]
          },
          "metadata": {
            "tags": []
          },
          "execution_count": 16
        },
        {
          "output_type": "display_data",
          "data": {
            "image/png": "[encoded data removed]",
            "text/plain": [
              "<Figure size 642.55x576 with 1 Axes>"
            ]
          },
          "metadata": {
            "tags": []
          }
        }
      ]
    },
    {
      "cell_type": "markdown",
      "metadata": {
        "id": "yJ851inSUT7N"
      },
      "source": [
        "#### T-SNE"
      ]
    },
    {
      "cell_type": "code",
      "metadata": {
        "id": "kzgolPdOKPJy"
      },
      "source": [
        "from sklearn.manifold import TSNE\r\n",
        "tsne = TSNE(n_components = 2, random_state=42)"
      ],
      "execution_count": 17,
      "outputs": []
    },
    {
      "cell_type": "code",
      "metadata": {
        "id": "Lqkazo25Kmja"
      },
      "source": [
        "reduced_tsne = tsne.fit_transform(X)\r\n",
        "principal = pd.DataFrame(data = reduced_tsne, columns = ['x_ax', 'y_ax'])\r\n",
        "df_tsne = pd.concat([principal, target], axis = 1)"
      ],
      "execution_count": 18,
      "outputs": []
    },
    {
      "cell_type": "code",
      "metadata": {
        "colab": {
          "base_uri": "https://localhost:8080/",
          "height": 616
        },
        "id": "5Z4HexqdKoAk",
        "outputId": "f98c943d-b6cb-483e-9068-66fa01856be3"
      },
      "source": [
        "sns.relplot(x='x_ax', y='y_ax', data=df_tsne, hue='deceased', height=8)"
      ],
      "execution_count": 19,
      "outputs": [
        {
          "output_type": "execute_result",
          "data": {
            "text/plain": [
              "<seaborn.axisgrid.FacetGrid at 0x7fb39cfb2f60>"
            ]
          },
          "metadata": {
            "tags": []
          },
          "execution_count": 19
        },
        {
          "output_type": "display_data",
          "data": {
            "image/png": "[encoded data removed]",
            "text/plain": [
              "<Figure size 642.55x576 with 1 Axes>"
            ]
          },
          "metadata": {
            "tags": []
          }
        }
      ]
    },
    {
      "cell_type": "markdown",
      "metadata": {
        "id": "-rRA2YwTUaf0"
      },
      "source": [
        "### Clustering k-means"
      ]
    },
    {
      "cell_type": "markdown",
      "metadata": {
        "id": "bsuA3Dv3OyMP"
      },
      "source": [
        "For simplicity lets say that deaths over 4.5 are high \r\n",
        "\r\n",
        "So will cluster into 2 groups hopping to get both of those groups"
      ]
    },
    {
      "cell_type": "code",
      "metadata": {
        "colab": {
          "base_uri": "https://localhost:8080/",
          "height": 268
        },
        "id": "qdLaV6OCQ1PW",
        "outputId": "5a9f5cd2-7542-4a0f-fa3c-db5795a297c9"
      },
      "source": [
        "from sklearn.cluster import KMeans\r\n",
        "# Finding n\r\n",
        "for i in range(2, 20):\r\n",
        "    kmeans = KMeans(n_clusters=i).fit(reduced_tsne)\r\n",
        "    plt.scatter(i, kmeans.inertia_)\r\n",
        "    plt.annotate(str(i), (i, kmeans.inertia_))\r\n",
        "# 5 seems to be the answer"
      ],
      "execution_count": 21,
      "outputs": [
        {
          "output_type": "display_data",
          "data": {
            "image/png": "[encoded data removed]",
            "text/plain": [
              "<Figure size 432x288 with 1 Axes>"
            ]
          },
          "metadata": {
            "tags": []
          }
        }
      ]
    },
    {
      "cell_type": "markdown",
      "metadata": {
        "id": "ylJS8XDPQLi_"
      },
      "source": [
        "#### Clustering T-SNE"
      ]
    },
    {
      "cell_type": "code",
      "metadata": {
        "id": "q_qyeOGCOx0b"
      },
      "source": [
        "kmeans = KMeans(n_clusters=5)"
      ],
      "execution_count": 22,
      "outputs": []
    },
    {
      "cell_type": "code",
      "metadata": {
        "colab": {
          "base_uri": "https://localhost:8080/",
          "height": 616
        },
        "id": "ZjK4cPRGPl93",
        "outputId": "92ab90a2-083f-4350-f0be-f7ee263b22f8"
      },
      "source": [
        "clusters = kmeans.fit_predict(reduced_tsne)\r\n",
        "sns.relplot(x='x_ax', y='y_ax', data=df_tsne, hue=clusters, size=\"deceased\", height=8)"
      ],
      "execution_count": 23,
      "outputs": [
        {
          "output_type": "execute_result",
          "data": {
            "text/plain": [
              "<seaborn.axisgrid.FacetGrid at 0x7fb39a859668>"
            ]
          },
          "metadata": {
            "tags": []
          },
          "execution_count": 23
        },
        {
          "output_type": "display_data",
          "data": {
            "image/png": "[encoded data removed]",
            "text/plain": [
              "<Figure size 642.55x576 with 1 Axes>"
            ]
          },
          "metadata": {
            "tags": []
          }
        }
      ]
    },
    {
      "cell_type": "markdown",
      "metadata": {
        "id": "ZVeRGeKbQEtW"
      },
      "source": [
        "#### Clustering PCA"
      ]
    },
    {
      "cell_type": "code",
      "metadata": {
        "colab": {
          "base_uri": "https://localhost:8080/",
          "height": 616
        },
        "id": "kuQ6O5E_QET8",
        "outputId": "bd2991fe-1f82-49ae-cf2c-a931f30ab091"
      },
      "source": [
        "clusters = kmeans.fit_predict(reduced_pca)\r\n",
        "sns.relplot(x='pc1', y='pc2', data=df_pca, hue=clusters, size=\"deceased\", height=8)"
      ],
      "execution_count": 24,
      "outputs": [
        {
          "output_type": "execute_result",
          "data": {
            "text/plain": [
              "<seaborn.axisgrid.FacetGrid at 0x7fb3a3863c18>"
            ]
          },
          "metadata": {
            "tags": []
          },
          "execution_count": 24
        },
        {
          "output_type": "display_data",
          "data": {
            "image/png": "[encoded data removed]",
            "text/plain": [
              "<Figure size 642.55x576 with 1 Axes>"
            ]
          },
          "metadata": {
            "tags": []
          }
        }
      ]
    },
    {
      "cell_type": "markdown",
      "metadata": {
        "id": "sc1hC9bKi-Ph"
      },
      "source": [
        "### Modeling"
      ]
    },
    {
      "cell_type": "markdown",
      "metadata": {
        "id": "xiWXXO7a-sKj"
      },
      "source": [
        "Given the number of tests taken, their negative and positive proportions with addition to released patients predict the number of people who died"
      ]
    },
    {
      "cell_type": "markdown",
      "metadata": {
        "id": "RWvFVTUl_ytF"
      },
      "source": [
        "This model could be used to judge how country is dealing with COVID"
      ]
    },
    {
      "cell_type": "code",
      "metadata": {
        "id": "KZzPY7NqUhOT",
        "colab": {
          "base_uri": "https://localhost:8080/"
        },
        "outputId": "5b09c1f4-4d4e-4c24-c80b-621ff64e2d13"
      },
      "source": [
        "from sklearn.linear_model import LinearRegression\r\n",
        "reg = LinearRegression().fit(X, target)\r\n",
        "reg.score(X, target)"
      ],
      "execution_count": 31,
      "outputs": [
        {
          "output_type": "execute_result",
          "data": {
            "text/plain": [
              "0.5139526955808857"
            ]
          },
          "metadata": {
            "tags": []
          },
          "execution_count": 31
        }
      ]
    },
    {
      "cell_type": "markdown",
      "metadata": {
        "id": "MDIAzEPJ_6h3"
      },
      "source": [
        "### Conclusions"
      ]
    },
    {
      "cell_type": "markdown",
      "metadata": {
        "id": "Usgk_9T7-qqL"
      },
      "source": [
        "- Spread is the biggest in younger population while older people are in the most danger.\r\n",
        "\r\n",
        "- Most people get the virus from travelling abroad (at least in the beggining). It seems reasonable that later younger people spread it accros population in places likes bars and schools or universities.  \r\n",
        "\r\n",
        "- Policies seem to work in stopping the spread. Especially those closing schools and travelling. While it stops spread in younger people. Although, it doesn't affect older people. \r\n",
        "\r\n",
        "- Dimension reduction and clustering made clear that there is some corelation in numbers of positive cases and released patiants with deaths. Linear regression model got r^2 score of 51% proves that. \r\n",
        "\r\n",
        "    - This could be used to judge countries current state by comparing values from the model with the real values."
      ]
    },
    {
      "cell_type": "markdown",
      "metadata": {
        "id": "bihxMqyMqFdQ"
      },
      "source": [
        "https://www.kaggle.com/kimjihoo/coronavirusdataset/"
      ]
    },
    {
      "cell_type": "markdown",
      "metadata": {
        "id": "6k3HxsPGjXX3"
      },
      "source": [
        "## Extra"
      ]
    },
    {
      "cell_type": "markdown",
      "metadata": {
        "id": "K-V1udqSqFdQ"
      },
      "source": [
        "#### 2016 US presidential elections"
      ]
    },
    {
      "cell_type": "markdown",
      "metadata": {
        "id": "l_kQSPf5qFdQ"
      },
      "source": [
        "<div><img width=\"400px\" height=\"auto\" src=\"https://images.unsplash.com/photo-1583340806569-6da3d5ea9911?ixlib=rb-1.2.1&ixid=MXwxMjA3fDB8MHxwaG90by1wYWdlfHx8fGVufDB8fHw%3D&auto=format&fit=crop&w=1315&q=80\" /></div>"
      ]
    },
    {
      "cell_type": "markdown",
      "metadata": {
        "id": "McwhiXJxqFdQ"
      },
      "source": [
        "In 2016, Donald Trump lost the popular vote, yet he won the electoral vote, securing 4 years in the Oval Office. This has been a shock to democrat supporters all around the world.\n",
        "\n",
        "Imagine you travel back in time to 2016. As soon as you step out of your time-capsule, the Democratic Party hires you. They want you, the best data scientist across the time and space, **to explain what happened and what should have been done differently**. They want you to **prepare them for 2020 presidential elections**.\n",
        "\n",
        "The Party has some tips for you - inspect the voters. What are Trump supporters? What do they feature? What are our supporters? Where should focus next? Any pro-trump states? Cities?\n",
        "\n",
        "The Democrats were kind of enough to share [a Kaggle dataset](https://www.kaggle.com/benhamner/2016-us-election) with you on 2016 U.S. elections. Use the data to help the Democrats."
      ]
    },
    {
      "cell_type": "markdown",
      "metadata": {
        "id": "TSDAb4uBqFdR"
      },
      "source": [
        "#### Fatal Police Shooting in United States"
      ]
    },
    {
      "cell_type": "markdown",
      "metadata": {
        "id": "6blMFFbiqFdR"
      },
      "source": [
        "<div><img width=\"400px\" height=\"auto\" src=\"https://images.unsplash.com/photo-1606352466047-7cef02b312bb?ixlib=rb-1.2.1&ixid=MXwxMjA3fDB8MHxwaG90by1wYWdlfHx8fGVufDB8fHw%3D&auto=format&fit=crop&w=1662&q=80\" /></div>"
      ]
    },
    {
      "cell_type": "markdown",
      "metadata": {
        "id": "HvvbAWzsqFdR"
      },
      "source": [
        "[Police brutality in the United States](https://en.wikipedia.org/wiki/Police_brutality_in_the_United_States) has been an nationwide issue since the 20th century. Public safety of U.S. citizens is a typical argument to justify the controversially high number of fatal shootings.\n",
        "\n",
        "You are a contractor to the United States Department of Justice. **You have been given a case to investigate fatal police shootings throughout the United States of America, provide a list of issues, and propose a plan on how to tackle these issues**.\n",
        "\n",
        "The department offered some tips - the public opinion indicates that there's something systematically fishy of police actions against civilians, some states differ from other, some cities are different from others, race equality is still an unanswered question, there's some talk about huge spendings on police, rumors about mental issues of those getting shot. Government is all about prioritizing - use the data to list issues with the police activity and propose a plan which issues to tackle first and how.\n",
        "\n",
        "Your are given 1 dataset to start with. Try to search for more datasets to enrich your data analysis."
      ]
    },
    {
      "cell_type": "markdown",
      "metadata": {
        "id": "kEm80iQFqFdR"
      },
      "source": [
        "Here's the dataset:\n",
        "\n",
        "* [Fatal Police Shootings in the U.S. '15 - '17](https://www.kaggle.com/washingtonpost/police-shootings)."
      ]
    },
    {
      "cell_type": "markdown",
      "metadata": {
        "id": "7KKImU7iqFdS"
      },
      "source": [
        "# Evaluation Criteria"
      ]
    },
    {
      "cell_type": "markdown",
      "metadata": {
        "id": "HxMt5UwxqFdS"
      },
      "source": [
        "- Code quality\n",
        "- Fulfillment of the idea\n",
        "- Adherence to the requirements\n",
        "- Delivery of the presentation\n",
        "\n",
        "#### Statistical hypothesis testing\n",
        "- Correct statistical test method is used, based on the situation.\n",
        "- Reasoning on chosen statistical significance level.\n",
        "\n",
        "#### Modeling\n",
        "- Both PCA and T-SNE algorithms are used."
      ]
    }
  ]
}